{
 "cells": [
  {
   "cell_type": "markdown",
   "id": "6yDxo9u0d9Na",
   "metadata": {
    "id": "6yDxo9u0d9Na"
   },
   "source": [
    "# Project Business Statistics: E-news Express\n",
    "\n",
    "**Marks: 60**"
   ]
  },
  {
   "cell_type": "markdown",
   "id": "SrLd-ICEmPSD",
   "metadata": {
    "id": "SrLd-ICEmPSD"
   },
   "source": [
    "## Define Problem Statement and Objectives"
   ]
  },
  {
   "cell_type": "markdown",
   "id": "a6a3d218",
   "metadata": {
    "id": "a6a3d218"
   },
   "source": [
    "## Import all the necessary libraries"
   ]
  },
  {
   "cell_type": "code",
   "execution_count": 1,
   "id": "658c5dec",
   "metadata": {
    "id": "658c5dec"
   },
   "outputs": [],
   "source": [
    "import numpy as np\n",
    "import pandas as pd\n",
    "from matplotlib import pyplot as plt\n",
    "import seaborn as sns\n",
    "import scipy.stats as stats"
   ]
  },
  {
   "cell_type": "markdown",
   "id": "9d75cfa2",
   "metadata": {
    "id": "9d75cfa2"
   },
   "source": [
    "## 1. Explore the dataset and extract insights using Exploratory Data Analysis. (10 Marks)"
   ]
  },
  {
   "cell_type": "markdown",
   "id": "27201534",
   "metadata": {
    "id": "27201534"
   },
   "source": [
    "### Exploratory Data Analysis - Step by step approach\n",
    "\n",
    "Typical Data exploration activity consists of the following steps:\n",
    "1.\tImporting Data\n",
    "2.\tVariable Identification\n",
    "3.  Variable Transformation/Feature Creation\n",
    "4.  Missing value detection\n",
    "5.\tUnivariate Analysis\n",
    "6.\tBivariate Analysis"
   ]
  },
  {
   "cell_type": "markdown",
   "id": "6970dd99",
   "metadata": {
    "id": "6970dd99"
   },
   "source": [
    "### Reading the Data into a DataFrame"
   ]
  },
  {
   "cell_type": "code",
   "execution_count": 2,
   "id": "d3b95640",
   "metadata": {
    "id": "d3b95640"
   },
   "outputs": [
    {
     "data": {
      "text/html": [
       "<div>\n",
       "<style scoped>\n",
       "    .dataframe tbody tr th:only-of-type {\n",
       "        vertical-align: middle;\n",
       "    }\n",
       "\n",
       "    .dataframe tbody tr th {\n",
       "        vertical-align: top;\n",
       "    }\n",
       "\n",
       "    .dataframe thead th {\n",
       "        text-align: right;\n",
       "    }\n",
       "</style>\n",
       "<table border=\"1\" class=\"dataframe\">\n",
       "  <thead>\n",
       "    <tr style=\"text-align: right;\">\n",
       "      <th></th>\n",
       "      <th>user_id</th>\n",
       "      <th>group</th>\n",
       "      <th>landing_page</th>\n",
       "      <th>time_spent_on_the_page</th>\n",
       "      <th>converted</th>\n",
       "      <th>language_preferred</th>\n",
       "    </tr>\n",
       "  </thead>\n",
       "  <tbody>\n",
       "    <tr>\n",
       "      <th>0</th>\n",
       "      <td>546592</td>\n",
       "      <td>control</td>\n",
       "      <td>old</td>\n",
       "      <td>3.48</td>\n",
       "      <td>no</td>\n",
       "      <td>Spanish</td>\n",
       "    </tr>\n",
       "    <tr>\n",
       "      <th>1</th>\n",
       "      <td>546468</td>\n",
       "      <td>treatment</td>\n",
       "      <td>new</td>\n",
       "      <td>7.13</td>\n",
       "      <td>yes</td>\n",
       "      <td>English</td>\n",
       "    </tr>\n",
       "    <tr>\n",
       "      <th>2</th>\n",
       "      <td>546462</td>\n",
       "      <td>treatment</td>\n",
       "      <td>new</td>\n",
       "      <td>4.40</td>\n",
       "      <td>no</td>\n",
       "      <td>Spanish</td>\n",
       "    </tr>\n",
       "    <tr>\n",
       "      <th>3</th>\n",
       "      <td>546567</td>\n",
       "      <td>control</td>\n",
       "      <td>old</td>\n",
       "      <td>3.02</td>\n",
       "      <td>no</td>\n",
       "      <td>French</td>\n",
       "    </tr>\n",
       "    <tr>\n",
       "      <th>4</th>\n",
       "      <td>546459</td>\n",
       "      <td>treatment</td>\n",
       "      <td>new</td>\n",
       "      <td>4.75</td>\n",
       "      <td>yes</td>\n",
       "      <td>Spanish</td>\n",
       "    </tr>\n",
       "  </tbody>\n",
       "</table>\n",
       "</div>"
      ],
      "text/plain": [
       "   user_id      group landing_page  time_spent_on_the_page converted  \\\n",
       "0   546592    control          old                    3.48        no   \n",
       "1   546468  treatment          new                    7.13       yes   \n",
       "2   546462  treatment          new                    4.40        no   \n",
       "3   546567    control          old                    3.02        no   \n",
       "4   546459  treatment          new                    4.75       yes   \n",
       "\n",
       "  language_preferred  \n",
       "0            Spanish  \n",
       "1            English  \n",
       "2            Spanish  \n",
       "3             French  \n",
       "4            Spanish  "
      ]
     },
     "execution_count": 2,
     "metadata": {},
     "output_type": "execute_result"
    }
   ],
   "source": [
    "# write the code for reading the dataset abtest.csv\n",
    "\n",
    "df = pd.read_csv('abtest.csv') \n",
    "# This will shows the first five rows of the dataset\n",
    "df.head()"
   ]
  },
  {
   "cell_type": "markdown",
   "id": "a4e471fd",
   "metadata": {
    "id": "a4e471fd"
   },
   "source": [
    "### Data Overview\n",
    "- View a few rows of the data frame.\n",
    "- Check the shape and data types of the data frame. Add observations.\n",
    "- Fix the data-types (if needed).\n",
    "- Missing Value Check.\n",
    "- Summary statistics from the data frame. Add observations."
   ]
  },
  {
   "cell_type": "code",
   "execution_count": 3,
   "id": "e1ad11d4",
   "metadata": {
    "id": "e1ad11d4"
   },
   "outputs": [
    {
     "name": "stdout",
     "output_type": "stream",
     "text": [
      "<class 'pandas.core.frame.DataFrame'>\n",
      "RangeIndex: 100 entries, 0 to 99\n",
      "Data columns (total 6 columns):\n",
      " #   Column                  Non-Null Count  Dtype  \n",
      "---  ------                  --------------  -----  \n",
      " 0   user_id                 100 non-null    int64  \n",
      " 1   group                   100 non-null    object \n",
      " 2   landing_page            100 non-null    object \n",
      " 3   time_spent_on_the_page  100 non-null    float64\n",
      " 4   converted               100 non-null    object \n",
      " 5   language_preferred      100 non-null    object \n",
      "dtypes: float64(1), int64(1), object(4)\n",
      "memory usage: 4.8+ KB\n"
     ]
    }
   ],
   "source": [
    "df.info()"
   ]
  },
  {
   "cell_type": "markdown",
   "id": "e4f11f3a",
   "metadata": {},
   "source": [
    "* The dataset contains 100 rows and 6 columns\n",
    "* The six columns in the data are 'user_id', 'group', 'landing_page', 'time_spend_on_the_page', 'converted', 'language_preferred'\n",
    "* 4 of the columns are of object type (string) and 1 column integer type (numeric) and 1 in float type (numeric)\n",
    "* There are no missing values in the data"
   ]
  },
  {
   "cell_type": "code",
   "execution_count": 4,
   "id": "8a067d70",
   "metadata": {},
   "outputs": [],
   "source": [
    "df = df.astype({\"group\"              : 'category',\n",
    "                \"landing_page\"       : 'category',\n",
    "                \"converted\"          : 'category',\n",
    "                \"language_preferred\" : 'category'})"
   ]
  },
  {
   "cell_type": "code",
   "execution_count": 5,
   "id": "c3e3b451",
   "metadata": {},
   "outputs": [
    {
     "name": "stdout",
     "output_type": "stream",
     "text": [
      "<class 'pandas.core.frame.DataFrame'>\n",
      "RangeIndex: 100 entries, 0 to 99\n",
      "Data columns (total 6 columns):\n",
      " #   Column                  Non-Null Count  Dtype   \n",
      "---  ------                  --------------  -----   \n",
      " 0   user_id                 100 non-null    int64   \n",
      " 1   group                   100 non-null    category\n",
      " 2   landing_page            100 non-null    category\n",
      " 3   time_spent_on_the_page  100 non-null    float64 \n",
      " 4   converted               100 non-null    category\n",
      " 5   language_preferred      100 non-null    category\n",
      "dtypes: category(4), float64(1), int64(1)\n",
      "memory usage: 2.6 KB\n"
     ]
    }
   ],
   "source": [
    "df.info()"
   ]
  },
  {
   "cell_type": "markdown",
   "id": "66734237",
   "metadata": {},
   "source": [
    "* By changing the column data type from object to category, the memory usage in decreased around 40%"
   ]
  },
  {
   "cell_type": "code",
   "execution_count": 6,
   "id": "20b6fa7f",
   "metadata": {},
   "outputs": [
    {
     "data": {
      "text/html": [
       "<div>\n",
       "<style scoped>\n",
       "    .dataframe tbody tr th:only-of-type {\n",
       "        vertical-align: middle;\n",
       "    }\n",
       "\n",
       "    .dataframe tbody tr th {\n",
       "        vertical-align: top;\n",
       "    }\n",
       "\n",
       "    .dataframe thead th {\n",
       "        text-align: right;\n",
       "    }\n",
       "</style>\n",
       "<table border=\"1\" class=\"dataframe\">\n",
       "  <thead>\n",
       "    <tr style=\"text-align: right;\">\n",
       "      <th></th>\n",
       "      <th>user_id</th>\n",
       "      <th>time_spent_on_the_page</th>\n",
       "    </tr>\n",
       "  </thead>\n",
       "  <tbody>\n",
       "    <tr>\n",
       "      <th>count</th>\n",
       "      <td>100.000000</td>\n",
       "      <td>100.000000</td>\n",
       "    </tr>\n",
       "    <tr>\n",
       "      <th>mean</th>\n",
       "      <td>546517.000000</td>\n",
       "      <td>5.377800</td>\n",
       "    </tr>\n",
       "    <tr>\n",
       "      <th>std</th>\n",
       "      <td>52.295779</td>\n",
       "      <td>2.378166</td>\n",
       "    </tr>\n",
       "    <tr>\n",
       "      <th>min</th>\n",
       "      <td>546443.000000</td>\n",
       "      <td>0.190000</td>\n",
       "    </tr>\n",
       "    <tr>\n",
       "      <th>25%</th>\n",
       "      <td>546467.750000</td>\n",
       "      <td>3.880000</td>\n",
       "    </tr>\n",
       "    <tr>\n",
       "      <th>50%</th>\n",
       "      <td>546492.500000</td>\n",
       "      <td>5.415000</td>\n",
       "    </tr>\n",
       "    <tr>\n",
       "      <th>75%</th>\n",
       "      <td>546567.250000</td>\n",
       "      <td>7.022500</td>\n",
       "    </tr>\n",
       "    <tr>\n",
       "      <th>max</th>\n",
       "      <td>546592.000000</td>\n",
       "      <td>10.710000</td>\n",
       "    </tr>\n",
       "  </tbody>\n",
       "</table>\n",
       "</div>"
      ],
      "text/plain": [
       "             user_id  time_spent_on_the_page\n",
       "count     100.000000              100.000000\n",
       "mean   546517.000000                5.377800\n",
       "std        52.295779                2.378166\n",
       "min    546443.000000                0.190000\n",
       "25%    546467.750000                3.880000\n",
       "50%    546492.500000                5.415000\n",
       "75%    546567.250000                7.022500\n",
       "max    546592.000000               10.710000"
      ]
     },
     "execution_count": 6,
     "metadata": {},
     "output_type": "execute_result"
    }
   ],
   "source": [
    "df.describe()"
   ]
  },
  {
   "cell_type": "markdown",
   "id": "2fdbe130",
   "metadata": {},
   "source": [
    "### Observation based on sample\n",
    "* The average output for the time_spent_on_the_page (both old and new together) is 5.3778 min for both page landing\n",
    "* The std for the time_spent_on_the_page ((both old and new together)) is 2.378 min for both page landing"
   ]
  },
  {
   "cell_type": "code",
   "execution_count": 7,
   "id": "cfe2c2da",
   "metadata": {},
   "outputs": [
    {
     "name": "stdout",
     "output_type": "stream",
     "text": [
      "control      50\n",
      "treatment    50\n",
      "Name: group, dtype: int64\n",
      "new    50\n",
      "old    50\n",
      "Name: landing_page, dtype: int64\n"
     ]
    }
   ],
   "source": [
    "print (df['group'].value_counts())\n",
    "print (df['landing_page'].value_counts())"
   ]
  },
  {
   "cell_type": "markdown",
   "id": "4ee6ca78",
   "metadata": {},
   "source": [
    "### Observation based on sample\n",
    "* Number of old landing page (control group) is 50\n",
    "* Number of new landing page (treatment group) is 50"
   ]
  },
  {
   "cell_type": "code",
   "execution_count": 8,
   "id": "5be1c076",
   "metadata": {},
   "outputs": [
    {
     "data": {
      "text/html": [
       "<div>\n",
       "<style scoped>\n",
       "    .dataframe tbody tr th:only-of-type {\n",
       "        vertical-align: middle;\n",
       "    }\n",
       "\n",
       "    .dataframe tbody tr th {\n",
       "        vertical-align: top;\n",
       "    }\n",
       "\n",
       "    .dataframe thead th {\n",
       "        text-align: right;\n",
       "    }\n",
       "</style>\n",
       "<table border=\"1\" class=\"dataframe\">\n",
       "  <thead>\n",
       "    <tr style=\"text-align: right;\">\n",
       "      <th>landing_page</th>\n",
       "      <th>new</th>\n",
       "      <th>old</th>\n",
       "    </tr>\n",
       "  </thead>\n",
       "  <tbody>\n",
       "    <tr>\n",
       "      <th>count</th>\n",
       "      <td>50.000000</td>\n",
       "      <td>50.000000</td>\n",
       "    </tr>\n",
       "    <tr>\n",
       "      <th>mean</th>\n",
       "      <td>6.223200</td>\n",
       "      <td>4.532400</td>\n",
       "    </tr>\n",
       "    <tr>\n",
       "      <th>std</th>\n",
       "      <td>1.817031</td>\n",
       "      <td>2.581975</td>\n",
       "    </tr>\n",
       "    <tr>\n",
       "      <th>min</th>\n",
       "      <td>1.650000</td>\n",
       "      <td>0.190000</td>\n",
       "    </tr>\n",
       "    <tr>\n",
       "      <th>25%</th>\n",
       "      <td>5.175000</td>\n",
       "      <td>2.720000</td>\n",
       "    </tr>\n",
       "    <tr>\n",
       "      <th>50%</th>\n",
       "      <td>6.105000</td>\n",
       "      <td>4.380000</td>\n",
       "    </tr>\n",
       "    <tr>\n",
       "      <th>75%</th>\n",
       "      <td>7.160000</td>\n",
       "      <td>6.442500</td>\n",
       "    </tr>\n",
       "    <tr>\n",
       "      <th>max</th>\n",
       "      <td>10.710000</td>\n",
       "      <td>10.300000</td>\n",
       "    </tr>\n",
       "  </tbody>\n",
       "</table>\n",
       "</div>"
      ],
      "text/plain": [
       "landing_page        new        old\n",
       "count         50.000000  50.000000\n",
       "mean           6.223200   4.532400\n",
       "std            1.817031   2.581975\n",
       "min            1.650000   0.190000\n",
       "25%            5.175000   2.720000\n",
       "50%            6.105000   4.380000\n",
       "75%            7.160000   6.442500\n",
       "max           10.710000  10.300000"
      ]
     },
     "execution_count": 8,
     "metadata": {},
     "output_type": "execute_result"
    }
   ],
   "source": [
    "df.groupby(by=['landing_page'])['time_spent_on_the_page'].describe().T"
   ]
  },
  {
   "cell_type": "code",
   "execution_count": 9,
   "id": "9b40250a",
   "metadata": {},
   "outputs": [
    {
     "name": "stdout",
     "output_type": "stream",
     "text": [
      "The mean of spending time on new landing page is  6.2232\n",
      "The std of spending time on new landing page is  1.8170310387878268\n",
      "The mean of spending time on old landing page is  4.532400000000001\n",
      "The std of spending time on old landing page is  2.581974849306046\n"
     ]
    }
   ],
   "source": [
    "# find the sample means and sample standard deviations for the two samples\n",
    "print('The mean of spending time on new landing page is ' , df.groupby(by=['landing_page'])['time_spent_on_the_page'].mean()[0])\n",
    "print('The std of spending time on new landing page is ' , df.groupby(by=['landing_page'])['time_spent_on_the_page'].std()[0])\n",
    "print('The mean of spending time on old landing page is ' , df.groupby(by=['landing_page'])['time_spent_on_the_page'].mean()[1])\n",
    "print('The std of spending time on old landing page is ' , df.groupby(by=['landing_page'])['time_spent_on_the_page'].std()[1])"
   ]
  },
  {
   "cell_type": "markdown",
   "id": "f4a36b23",
   "metadata": {},
   "source": [
    "### Observation based on sample\n",
    "\n",
    "* The average time_spent_on_the_page of the groups are different.\n",
    "* The standard deviation on time_spent_on_the_page of the groups are different"
   ]
  },
  {
   "cell_type": "markdown",
   "id": "68f3b2c9",
   "metadata": {
    "id": "68f3b2c9"
   },
   "source": [
    "### Univariate Analysis"
   ]
  },
  {
   "cell_type": "code",
   "execution_count": 10,
   "id": "1932d0f3",
   "metadata": {
    "id": "1932d0f3"
   },
   "outputs": [],
   "source": [
    "# function to plot a boxplot and a histogram along the same scale.\n",
    "\n",
    "\n",
    "def histogram_boxplot(data, feature, figsize=(12, 7), kde=False, bins=None):\n",
    "    \"\"\"\n",
    "    Boxplot and histogram combined\n",
    "\n",
    "    data: dataframe\n",
    "    feature: dataframe column\n",
    "    figsize: size of figure (default (12,7))\n",
    "    kde: whether to show the density curve (default False)\n",
    "    bins: number of bins for histogram (default None)\n",
    "    \"\"\"\n",
    "    f2, (ax_box2, ax_hist2) = plt.subplots(\n",
    "        nrows=2,  # Number of rows of the subplot grid= 2\n",
    "        sharex=True,  # x-axis will be shared among all subplots\n",
    "        gridspec_kw={\"height_ratios\": (0.25, 0.75)},\n",
    "        figsize=figsize,\n",
    "    )  # creating the 2 subplots\n",
    "    sns.boxplot(\n",
    "        data=data, x=feature, ax=ax_box2, showmeans=True, color=\"violet\"\n",
    "    )  # boxplot will be created and a star will indicate the mean value of the column\n",
    "    sns.histplot(\n",
    "        data=data, x=feature, kde=kde, ax=ax_hist2, bins=bins, palette=\"winter\"\n",
    "    ) if bins else sns.histplot(\n",
    "        data=data, x=feature, kde=kde, ax=ax_hist2\n",
    "    )  # For histogram\n",
    "    ax_hist2.axvline(\n",
    "        data[feature].mean(), color=\"green\", linestyle=\"--\"\n",
    "    )  # Add mean to the histogram\n",
    "    ax_hist2.axvline(\n",
    "        data[feature].median(), color=\"black\", linestyle=\"-\"\n",
    "    )  # Add median to the histogram"
   ]
  },
  {
   "cell_type": "code",
   "execution_count": 11,
   "id": "2fce6350",
   "metadata": {
    "id": "2fce6350"
   },
   "outputs": [],
   "source": [
    "# function to create labeled barplots\n",
    "\n",
    "\n",
    "def labeled_barplot(data, feature, perc=True, n=None):\n",
    "    \"\"\"\n",
    "    Barplot with percentage at the top\n",
    "\n",
    "    data: dataframe\n",
    "    feature: dataframe column\n",
    "    perc: whether to display percentages instead of count (default is False)\n",
    "    n: displays the top n category levels (default is None, i.e., display all levels)\n",
    "    \"\"\"\n",
    "\n",
    "    total = len(data[feature])  # length of the column\n",
    "    count = data[feature].nunique()\n",
    "    if n is None:\n",
    "        plt.figure(figsize=(count + 1, 5))\n",
    "    else:\n",
    "        plt.figure(figsize=(n + 1, 5))\n",
    "\n",
    "    plt.xticks(rotation=90, fontsize=15)\n",
    "    ax = sns.countplot(data=data, x=feature, palette=\"Paired\", order=data[feature].value_counts().index[:n].sort_values())\n",
    "\n",
    "    for p in ax.patches:\n",
    "        if perc == True:\n",
    "            label = \"{:.1f}%\".format(100 * p.get_height() / total)  # percentage of each class of the category\n",
    "        else:\n",
    "            label = p.get_height()  # count of each level of the category\n",
    "\n",
    "        x = p.get_x() + p.get_width() / 2  # width of the plot\n",
    "        y = p.get_height()      # height of the plot\n",
    "\n",
    "        ax.annotate(label, (x, y), ha=\"center\", va=\"center\", size=12, xytext=(0, 5), textcoords=\"offset points\")  # annotate the percentage\n",
    "\n",
    "    plt.show()  # show the plot"
   ]
  },
  {
   "cell_type": "code",
   "execution_count": 12,
   "id": "e6f99481",
   "metadata": {
    "id": "e6f99481"
   },
   "outputs": [
    {
     "data": {
      "image/png": "[encoded data removed]",
      "text/plain": [
       "<Figure size 864x504 with 2 Axes>"
      ]
     },
     "metadata": {
      "needs_background": "light"
     },
     "output_type": "display_data"
    }
   ],
   "source": [
    "histogram_boxplot(df, 'time_spent_on_the_page') #boxplot and histogram plot of the time_spent_on_the_page data"
   ]
  },
  {
   "cell_type": "markdown",
   "id": "83681e34",
   "metadata": {},
   "source": [
    "### Observation based on sample\n",
    "\n",
    "* Average time spend on the page (old and new together) is 5.3778 as mentioned before and it is shown above.\n",
    "* The mean and median are mostlty the same (median is 5.41 based on data described above) and it is shown above.\n",
    "* The data seems normally distributed around mean (or median as they are mostly equal)."
   ]
  },
  {
   "cell_type": "code",
   "execution_count": 13,
   "id": "be86f72e",
   "metadata": {},
   "outputs": [
    {
     "data": {
      "image/png": "[encoded data removed]",
      "text/plain": [
       "<Figure size 216x360 with 1 Axes>"
      ]
     },
     "metadata": {
      "needs_background": "light"
     },
     "output_type": "display_data"
    }
   ],
   "source": [
    "labeled_barplot(df, 'group') # barplots of group data"
   ]
  },
  {
   "cell_type": "markdown",
   "id": "f78641c6",
   "metadata": {},
   "source": [
    "### Observation based on sample\n",
    "* Number of control group is 50\n",
    "* Number treatment group is 50"
   ]
  },
  {
   "cell_type": "code",
   "execution_count": 14,
   "id": "0db3b369",
   "metadata": {},
   "outputs": [
    {
     "data": {
      "image/png": "[encoded data removed]",
      "text/plain": [
       "<Figure size 216x360 with 1 Axes>"
      ]
     },
     "metadata": {
      "needs_background": "light"
     },
     "output_type": "display_data"
    }
   ],
   "source": [
    "labeled_barplot(df, 'landing_page') # barplots of landing_page data"
   ]
  },
  {
   "cell_type": "markdown",
   "id": "d60f5d19",
   "metadata": {
    "id": "58e9a1d0"
   },
   "source": [
    "### Observation based on sample\n",
    "* Number of old landing page is 50\n",
    "* Number of new landing page is 50"
   ]
  },
  {
   "cell_type": "code",
   "execution_count": 15,
   "id": "500e01ac",
   "metadata": {},
   "outputs": [
    {
     "data": {
      "image/png": "[encoded data removed]",
      "text/plain": [
       "<Figure size 216x360 with 1 Axes>"
      ]
     },
     "metadata": {
      "needs_background": "light"
     },
     "output_type": "display_data"
    }
   ],
   "source": [
    "labeled_barplot(df, 'converted') # barplots of converted data"
   ]
  },
  {
   "cell_type": "markdown",
   "id": "1a8f6bf3",
   "metadata": {},
   "source": [
    "### Observation based on sample\n",
    "* Total number of converted is 54% regardless of old or new page"
   ]
  },
  {
   "cell_type": "code",
   "execution_count": 16,
   "id": "38344ca3",
   "metadata": {},
   "outputs": [
    {
     "data": {
      "image/png": "[encoded data removed]",
      "text/plain": [
       "<Figure size 288x360 with 1 Axes>"
      ]
     },
     "metadata": {
      "needs_background": "light"
     },
     "output_type": "display_data"
    }
   ],
   "source": [
    "labeled_barplot(df, 'language_preferred') # barplots of language_preferred data"
   ]
  },
  {
   "cell_type": "markdown",
   "id": "472602eb",
   "metadata": {},
   "source": [
    "### Observation based on sample\n",
    "* The variation of language prefered by the user are shown above regardless of old or new page landing"
   ]
  },
  {
   "cell_type": "markdown",
   "id": "e77422d9",
   "metadata": {
    "id": "fad2de2f"
   },
   "source": [
    "### Bivariate Analysis"
   ]
  },
  {
   "cell_type": "code",
   "execution_count": 17,
   "id": "41cdac4a",
   "metadata": {},
   "outputs": [
    {
     "data": {
      "image/png": "[encoded data removed]",
      "text/plain": [
       "<Figure size 432x288 with 1 Axes>"
      ]
     },
     "metadata": {
      "needs_background": "light"
     },
     "output_type": "display_data"
    }
   ],
   "source": [
    "sns.barplot(x=df['landing_page'], y=df['time_spent_on_the_page'])\n",
    "plt.show()"
   ]
  },
  {
   "cell_type": "markdown",
   "id": "914bbfc7",
   "metadata": {},
   "source": [
    "### Observation based on sample\n",
    "* The average time spend on new landing page is more than the old landing page"
   ]
  },
  {
   "cell_type": "code",
   "execution_count": 18,
   "id": "d246692e",
   "metadata": {},
   "outputs": [
    {
     "data": {
      "image/png": "[encoded data removed]",
      "text/plain": [
       "<Figure size 432x288 with 1 Axes>"
      ]
     },
     "metadata": {
      "needs_background": "light"
     },
     "output_type": "display_data"
    }
   ],
   "source": [
    "sns.boxplot(x=df['language_preferred'], y=df['time_spent_on_the_page'])\n",
    "plt.show()"
   ]
  },
  {
   "cell_type": "markdown",
   "id": "b5351697",
   "metadata": {},
   "source": [
    "### Observation based on sample\n",
    "* The average time spend on landing page (both old ans new) are mostly the same.\n",
    "* In Spanish language, it seems there is a outlier in the data (A very small amout is detected in the data). "
   ]
  },
  {
   "cell_type": "code",
   "execution_count": 19,
   "id": "f8dc3834",
   "metadata": {},
   "outputs": [
    {
     "data": {
      "image/png": "[encoded data removed]",
      "text/plain": [
       "<Figure size 432x288 with 1 Axes>"
      ]
     },
     "metadata": {
      "needs_background": "light"
     },
     "output_type": "display_data"
    }
   ],
   "source": [
    "df.groupby(by=['landing_page'])['time_spent_on_the_page'].sum().plot(x='landing_page',y='time_spent_on_the_page',kind='bar', color='b')\n",
    "plt.show()"
   ]
  },
  {
   "cell_type": "markdown",
   "id": "0e11efb9",
   "metadata": {},
   "source": [
    "### Observation based on sample\n",
    "* Regarding the two above barplots, the time spent on new landing page is higher than old page in average and cumutativley."
   ]
  },
  {
   "cell_type": "code",
   "execution_count": 20,
   "id": "fc46ecbf",
   "metadata": {},
   "outputs": [
    {
     "data": {
      "text/html": [
       "<div>\n",
       "<style scoped>\n",
       "    .dataframe tbody tr th:only-of-type {\n",
       "        vertical-align: middle;\n",
       "    }\n",
       "\n",
       "    .dataframe tbody tr th {\n",
       "        vertical-align: top;\n",
       "    }\n",
       "\n",
       "    .dataframe thead th {\n",
       "        text-align: right;\n",
       "    }\n",
       "</style>\n",
       "<table border=\"1\" class=\"dataframe\">\n",
       "  <thead>\n",
       "    <tr style=\"text-align: right;\">\n",
       "      <th></th>\n",
       "      <th>user_id</th>\n",
       "      <th>group</th>\n",
       "      <th>landing_page</th>\n",
       "      <th>time_spent_on_the_page</th>\n",
       "      <th>converted</th>\n",
       "      <th>language_preferred</th>\n",
       "      <th>subscribed</th>\n",
       "    </tr>\n",
       "  </thead>\n",
       "  <tbody>\n",
       "    <tr>\n",
       "      <th>0</th>\n",
       "      <td>546592</td>\n",
       "      <td>control</td>\n",
       "      <td>old</td>\n",
       "      <td>3.48</td>\n",
       "      <td>no</td>\n",
       "      <td>Spanish</td>\n",
       "      <td>0</td>\n",
       "    </tr>\n",
       "    <tr>\n",
       "      <th>1</th>\n",
       "      <td>546468</td>\n",
       "      <td>treatment</td>\n",
       "      <td>new</td>\n",
       "      <td>7.13</td>\n",
       "      <td>yes</td>\n",
       "      <td>English</td>\n",
       "      <td>1</td>\n",
       "    </tr>\n",
       "    <tr>\n",
       "      <th>2</th>\n",
       "      <td>546462</td>\n",
       "      <td>treatment</td>\n",
       "      <td>new</td>\n",
       "      <td>4.40</td>\n",
       "      <td>no</td>\n",
       "      <td>Spanish</td>\n",
       "      <td>0</td>\n",
       "    </tr>\n",
       "    <tr>\n",
       "      <th>3</th>\n",
       "      <td>546567</td>\n",
       "      <td>control</td>\n",
       "      <td>old</td>\n",
       "      <td>3.02</td>\n",
       "      <td>no</td>\n",
       "      <td>French</td>\n",
       "      <td>0</td>\n",
       "    </tr>\n",
       "    <tr>\n",
       "      <th>4</th>\n",
       "      <td>546459</td>\n",
       "      <td>treatment</td>\n",
       "      <td>new</td>\n",
       "      <td>4.75</td>\n",
       "      <td>yes</td>\n",
       "      <td>Spanish</td>\n",
       "      <td>1</td>\n",
       "    </tr>\n",
       "  </tbody>\n",
       "</table>\n",
       "</div>"
      ],
      "text/plain": [
       "   user_id      group landing_page  time_spent_on_the_page converted  \\\n",
       "0   546592    control          old                    3.48        no   \n",
       "1   546468  treatment          new                    7.13       yes   \n",
       "2   546462  treatment          new                    4.40        no   \n",
       "3   546567    control          old                    3.02        no   \n",
       "4   546459  treatment          new                    4.75       yes   \n",
       "\n",
       "  language_preferred  subscribed  \n",
       "0            Spanish           0  \n",
       "1            English           1  \n",
       "2            Spanish           0  \n",
       "3             French           0  \n",
       "4            Spanish           1  "
      ]
     },
     "execution_count": 20,
     "metadata": {},
     "output_type": "execute_result"
    }
   ],
   "source": [
    "# converted the 'convert' column to the numeric to be used or further calculation\n",
    "df['subscribed']=0\n",
    "df.loc[df['converted']== 'yes', 'subscribed']= 1\n",
    "df.head()"
   ]
  },
  {
   "cell_type": "markdown",
   "id": "03b56b4e",
   "metadata": {},
   "source": [
    "* CONVERTED column, is changed to the numeric to be used in calculation.\n",
    "* 'no' is considred \"0\" and 'yes' supposed as \"1\".\n",
    "* The data is stored in subscribed column as shown in above dataframe."
   ]
  },
  {
   "cell_type": "code",
   "execution_count": 21,
   "id": "88f9ef4a",
   "metadata": {},
   "outputs": [
    {
     "data": {
      "image/png": "[encoded data removed]",
      "text/plain": [
       "<Figure size 432x288 with 1 Axes>"
      ]
     },
     "metadata": {
      "needs_background": "light"
     },
     "output_type": "display_data"
    },
    {
     "name": "stdout",
     "output_type": "stream",
     "text": [
      "landing_page\n",
      "new    33\n",
      "old    21\n",
      "Name: subscribed, dtype: int64\n"
     ]
    }
   ],
   "source": [
    "df.groupby(by=['landing_page'])['subscribed'].sum().plot(x='landing_page',y='subscribed',kind='bar', color='b')\n",
    "plt.show()\n",
    "\n",
    "no_subscribed=df.groupby(by=['landing_page'])['subscribed'].sum()\n",
    "print (no_subscribed)"
   ]
  },
  {
   "cell_type": "markdown",
   "id": "ba39865f",
   "metadata": {},
   "source": [
    "### Observation based on sample\n",
    "* The number of subscribed group based on landing page type (old or new) is changed.\n",
    "* The number of subsribed group on new landing page is 33 respect to the old one which is 21.\n"
   ]
  },
  {
   "cell_type": "code",
   "execution_count": 22,
   "id": "3a532100",
   "metadata": {},
   "outputs": [
    {
     "data": {
      "image/png": "[encoded data removed]",
      "text/plain": [
       "<Figure size 432x288 with 1 Axes>"
      ]
     },
     "metadata": {
      "needs_background": "light"
     },
     "output_type": "display_data"
    },
    {
     "data": {
      "text/plain": [
       "language_preferred\n",
       "English    21\n",
       "French     15\n",
       "Spanish    18\n",
       "Name: subscribed, dtype: int64"
      ]
     },
     "execution_count": 22,
     "metadata": {},
     "output_type": "execute_result"
    }
   ],
   "source": [
    "df.groupby(by=['language_preferred'])['subscribed'].sum().plot(x='language_preferred',y='subscribed',kind='bar', color='b')\n",
    "plt.show()\n",
    "df.groupby(by=['language_preferred'])['subscribed'].sum()"
   ]
  },
  {
   "cell_type": "markdown",
   "id": "140a98b4",
   "metadata": {},
   "source": [
    "### Observation based on sample\n",
    "* The number of subscribed group based on prefered language:\n",
    "* English =21\n",
    "* French  =15\n",
    "* Spanish =18\n"
   ]
  },
  {
   "cell_type": "markdown",
   "id": "27906576",
   "metadata": {
    "id": "27906576"
   },
   "source": [
    "## 2. Do the users spend more time on the new landing page than the existing landing page? (10 Marks)"
   ]
  },
  {
   "cell_type": "markdown",
   "id": "e5fdf0c8",
   "metadata": {
    "id": "e5fdf0c8"
   },
   "source": [
    "### Perform Visual Analysis"
   ]
  },
  {
   "cell_type": "code",
   "execution_count": 23,
   "id": "20e97154",
   "metadata": {},
   "outputs": [
    {
     "data": {
      "image/png": "[encoded data removed]",
      "text/plain": [
       "<Figure size 432x288 with 1 Axes>"
      ]
     },
     "metadata": {
      "needs_background": "light"
     },
     "output_type": "display_data"
    }
   ],
   "source": [
    "sns.boxplot(data = df, x = 'time_spent_on_the_page', y = 'landing_page')\n",
    "plt.show()"
   ]
  },
  {
   "cell_type": "markdown",
   "id": "56b3dafd",
   "metadata": {
    "id": "56b3dafd"
   },
   "source": [
    "### Step 1: Define the null and alternate hypotheses"
   ]
  },
  {
   "cell_type": "markdown",
   "id": "d2ac77ef",
   "metadata": {
    "id": "d2ac77ef"
   },
   "source": [
    "$H_0:$ The mean time output from the new landing page is equal or less to the mean time output from the old landing page.\n",
    "\n",
    "$H_a:$ The mean time output from the new landing page is greater than the mean time output from the old landing page.\n",
    "\n",
    "Let $\\mu_2$ and $\\mu_1$ be the mean time output from the new landing page and the mean time output from the old landing page respectively.\n",
    "\n",
    "Mathematically, the above formulated hypotheses can be written as:\n",
    "\n",
    "$H_0: \\mu_2 <= \\mu_1 $\n",
    "\n",
    "$H_a: \\mu_2 > \\mu_1 $"
   ]
  },
  {
   "cell_type": "markdown",
   "id": "c7ee4907",
   "metadata": {
    "id": "c7ee4907"
   },
   "source": [
    "### Step 2: Select Appropriate test"
   ]
  },
  {
   "cell_type": "markdown",
   "id": "2c183cd7",
   "metadata": {
    "id": "2c183cd7"
   },
   "source": [
    "Let's test whether the T-test assumptions are satisfied or not:\n",
    "    \n",
    "    * Continuous data - Yes, the 'time spending' is measured on a continuous scale.\n",
    "    * Normally distributed populations - Yes, as the sample has normal shape.\n",
    "    * Independent populations - As we are taking random samples for two different groups, the two samples are from two \n",
    "      independent populations.\n",
    "    * Unequal population standard deviations - As the sample standard deviations are different, the population standard \n",
    "      deviations may be assumed to be different.\n",
    "    * Random sampling from the population - Yes, the collected sample is random sample.\n",
    "\n",
    "This is a case of a one-tailed two-sample mean test. We suppose that the observations are randomly drawn from the population. As the two samples are independent in this case (the measurements for both landing pages are not related to the same user_id, and also the population standard deviations are unknown, we shall use a two sample t-test, comparing means with unknown population variance for this problem."
   ]
  },
  {
   "cell_type": "markdown",
   "id": "3f58c9a7",
   "metadata": {
    "id": "3f58c9a7"
   },
   "source": [
    "### Step 3: Decide the significance level"
   ]
  },
  {
   "cell_type": "markdown",
   "id": "92d7d7ee",
   "metadata": {
    "id": "92d7d7ee"
   },
   "source": [
    "As given in the problem statement, we select $\\alpha$ = 0.05"
   ]
  },
  {
   "cell_type": "markdown",
   "id": "5fed2eac",
   "metadata": {
    "id": "5fed2eac"
   },
   "source": [
    "### Step 4: Collect and prepare data"
   ]
  },
  {
   "cell_type": "code",
   "execution_count": 24,
   "id": "f5a59495",
   "metadata": {
    "id": "f5a59495"
   },
   "outputs": [],
   "source": [
    "df.loc[df['landing_page']=='old','time_old']=df['time_spent_on_the_page']\n",
    "df.loc[df['landing_page']=='new','time_new']=df['time_spent_on_the_page']"
   ]
  },
  {
   "cell_type": "markdown",
   "id": "dbfea085",
   "metadata": {},
   "source": [
    "* Add two columns to the data, time_new and time_old, which shows the time spend on new and old pages respectively."
   ]
  },
  {
   "cell_type": "markdown",
   "id": "f5c5258d",
   "metadata": {
    "id": "f5c5258d"
   },
   "source": [
    "### Step 5: Calculate the p-value"
   ]
  },
  {
   "cell_type": "code",
   "execution_count": 25,
   "id": "fac8594a",
   "metadata": {
    "id": "fac8594a"
   },
   "outputs": [
    {
     "name": "stdout",
     "output_type": "stream",
     "text": [
      "The p-value is  0.0001392381225166549\n"
     ]
    }
   ],
   "source": [
    "# find the p-value\n",
    "test_stat_time_new_old, p_value_time_new_old = stats.ttest_ind(df['time_new'].dropna(), df['time_old'].dropna(), equal_var = False, alternative = 'greater')\n",
    "print('The p-value is ', p_value_time_new_old)"
   ]
  },
  {
   "cell_type": "markdown",
   "id": "359b12f8",
   "metadata": {
    "id": "359b12f8"
   },
   "source": [
    "### Step 6: Compare the p-value with $\\alpha$"
   ]
  },
  {
   "cell_type": "code",
   "execution_count": 26,
   "id": "7be47289",
   "metadata": {
    "id": "7be47289"
   },
   "outputs": [
    {
     "name": "stdout",
     "output_type": "stream",
     "text": [
      "As the p-value 0.0001392381225166549 is less than the level of significance, we reject the null hypothesis.\n"
     ]
    }
   ],
   "source": [
    "# print the conclusion based on p-value\n",
    "if p_value_time_new_old < 0.05:\n",
    "    print(f'As the p-value {p_value_time_new_old} is less than the level of significance, we reject the null hypothesis.')\n",
    "else:\n",
    "    print(f'As the p-value {p_value_time_new_old} is greater than the level of significance, we fail to reject the null hypothesis.')"
   ]
  },
  {
   "cell_type": "markdown",
   "id": "d9affc84",
   "metadata": {
    "id": "d9affc84"
   },
   "source": [
    "### Step 7:  Draw inference"
   ]
  },
  {
   "cell_type": "markdown",
   "id": "6b16dd4b",
   "metadata": {
    "id": "6b16dd4b"
   },
   "source": [
    "At 5% significance level, we reject the null hypothesis. Hence we have enough statistical evidence to reject that the mean time output from the new landing page is equal or less to the mean time output from the old landing page."
   ]
  },
  {
   "cell_type": "markdown",
   "id": "353e9d24",
   "metadata": {
    "id": "353e9d24"
   },
   "source": [
    "## 3. Is the conversion rate (the proportion of users who visit the landing page and get converted) for the new page greater than the conversion rate for the old page? (10 Marks)"
   ]
  },
  {
   "cell_type": "markdown",
   "id": "c61a180e",
   "metadata": {},
   "source": [
    "### Perform Visual Analysis"
   ]
  },
  {
   "cell_type": "code",
   "execution_count": 27,
   "id": "8a57840c",
   "metadata": {},
   "outputs": [
    {
     "data": {
      "image/png": "[encoded data removed]",
      "text/plain": [
       "<Figure size 432x288 with 1 Axes>"
      ]
     },
     "metadata": {
      "needs_background": "light"
     },
     "output_type": "display_data"
    }
   ],
   "source": [
    "sns.histplot(data = df, x = 'landing_page', hue = 'converted')\n",
    "plt.show()"
   ]
  },
  {
   "cell_type": "markdown",
   "id": "3c23f5bf",
   "metadata": {},
   "source": [
    "### Step 1: Define the null and alternate hypotheses"
   ]
  },
  {
   "cell_type": "markdown",
   "id": "78596053",
   "metadata": {},
   "source": [
    "$H_0:$ The conversion rate from the new landing page is equal or less to the conversion rate from the old landing page.\n",
    "\n",
    "$H_a:$ The conversion rate from the new landing page is greater than the conversion rate from the old landing page.\n",
    "\n",
    "Let $p_2$ and $p_1$ be the conversion rate from the new landing page and the conversion rate from the old landing page respectively.\n",
    "\n",
    "Mathematically, the above formulated hypotheses can be written as:\n",
    "\n",
    "$H_0: p_2 <= p_1 $\n",
    "\n",
    "$H_a: p_2 > p_1 $\n",
    "\n",
    "\n"
   ]
  },
  {
   "cell_type": "markdown",
   "id": "a1b1dd56",
   "metadata": {},
   "source": [
    "### Step 2: Select Appropriate test"
   ]
  },
  {
   "cell_type": "markdown",
   "id": "ba7cc8f8",
   "metadata": {},
   "source": [
    "### Let's test whether the Z-test assumptions are satisfied or not\n",
    "\n",
    "*   Binomally distributed population - Yes, a product is either converted or non-converted.\n",
    "*   Random sampling from the population - Yes, we are informed that the collected sample is a simple random sample.  \n",
    "*   Can the binomial distribution approximated to normal distribution - Yes. For binary data, CLT works slower than usual. The standard thing is to check whether np and n(1-p) are greater than or equal to 10. Here, n and p refer to the sample size and sample proportion respectively.\n",
    "\n",
    "* Based on analysis in part1 = for new landing page bumber of converted are 33 out of 50\n",
    "* Based on analysis in part1 = for old landing page bumber of converted are 21 out of 50\n",
    "\n",
    "\n",
    ">$np_1 = 50\\cdot \\frac{33}{50} =33 \\geq 10\\\\\n",
    "n(1-p_1) = 50 \\cdot \\frac{50-33}{50} =17 \\geq 10 \\\\\n",
    "np_2 = 50\\cdot \\frac{21}{50} =21 \\geq 10\\\\\n",
    "n(1-p_2) = 50 \\cdot \\frac{50-21}{50} =29 \\geq 10 $\n",
    "\n",
    "\n",
    "* Based on above analysis Two Proportion Z-test will be applied\n"
   ]
  },
  {
   "cell_type": "markdown",
   "id": "6c6dc2a8",
   "metadata": {},
   "source": [
    "### Step 3: Decide the significance level"
   ]
  },
  {
   "cell_type": "markdown",
   "id": "b236fde2",
   "metadata": {},
   "source": [
    "As given in the problem statement, we select $\\alpha$ = 0.05"
   ]
  },
  {
   "cell_type": "markdown",
   "id": "595498ef",
   "metadata": {},
   "source": [
    "### Step 4: Collect and prepare data"
   ]
  },
  {
   "cell_type": "code",
   "execution_count": 28,
   "id": "ce69643d",
   "metadata": {},
   "outputs": [
    {
     "name": "stdout",
     "output_type": "stream",
     "text": [
      "landing_page\n",
      "new    33\n",
      "old    21\n",
      "Name: subscribed, dtype: int64\n"
     ]
    }
   ],
   "source": [
    "no_subscribed=df.groupby(by=['landing_page'])['subscribed'].sum()\n",
    "print (no_subscribed)\n",
    "\n",
    "# set the counts of defective items\n",
    "subscribed_count = np.array([33, 21])\n",
    "\n",
    "# set the sample sizes\n",
    "nobs = np.array([50, 50])"
   ]
  },
  {
   "cell_type": "markdown",
   "id": "b74c9f1e",
   "metadata": {},
   "source": [
    "* Converted from new page is 33 out of 50 and converted from old page is 21 out of 50."
   ]
  },
  {
   "cell_type": "markdown",
   "id": "b7593131",
   "metadata": {},
   "source": [
    "### Step 5: Calculate the p-value"
   ]
  },
  {
   "cell_type": "code",
   "execution_count": 29,
   "id": "f4bcb7bc",
   "metadata": {},
   "outputs": [
    {
     "name": "stdout",
     "output_type": "stream",
     "text": [
      "The p-value is 0.016052616408112556\n"
     ]
    }
   ],
   "source": [
    "from statsmodels.stats.proportion import proportions_ztest\n",
    "\n",
    "# find the p-value\n",
    "test_stat_proportion, p_value_proportion = proportions_ztest(subscribed_count, nobs)\n",
    "print('The p-value is ' + str(p_value_proportion))"
   ]
  },
  {
   "cell_type": "markdown",
   "id": "44577a79",
   "metadata": {},
   "source": [
    "### Step 6: Compare the p-value with $\\alpha$"
   ]
  },
  {
   "cell_type": "code",
   "execution_count": 30,
   "id": "f51893fd",
   "metadata": {},
   "outputs": [
    {
     "name": "stdout",
     "output_type": "stream",
     "text": [
      "As the p-value 0.016052616408112556 is less than the level of significance, we reject the null hypothesis.\n"
     ]
    }
   ],
   "source": [
    "# print the conclusion based on p-value\n",
    "if p_value_proportion < 0.05:\n",
    "    print(f'As the p-value {p_value_proportion} is less than the level of significance, we reject the null hypothesis.')\n",
    "else:\n",
    "    print(f'As the p-value {p_value_proportion} is greater than the level of significance, we fail to reject the null hypothesis.')"
   ]
  },
  {
   "cell_type": "markdown",
   "id": "81f4189f",
   "metadata": {},
   "source": [
    "### Step 7:  Draw inference"
   ]
  },
  {
   "cell_type": "markdown",
   "id": "1d219f74",
   "metadata": {},
   "source": [
    "At 5% significance level, we reject the null hypothesis. Hence we have enough statistical evidence to reject that the conversion rate from the new landing page is equal or less to the conversion rate from the old landing page."
   ]
  },
  {
   "cell_type": "markdown",
   "id": "d49bfa2d",
   "metadata": {
    "id": "d49bfa2d"
   },
   "source": [
    "## 4. Is the conversion and preferred language are independent or related? (10 Marks)"
   ]
  },
  {
   "cell_type": "markdown",
   "id": "3fc2b9cd",
   "metadata": {},
   "source": [
    "### Perform Visual Analysis"
   ]
  },
  {
   "cell_type": "code",
   "execution_count": 31,
   "id": "80bdd6dc",
   "metadata": {},
   "outputs": [
    {
     "data": {
      "image/png": "[encoded data removed]",
      "text/plain": [
       "<Figure size 432x288 with 1 Axes>"
      ]
     },
     "metadata": {
      "needs_background": "light"
     },
     "output_type": "display_data"
    }
   ],
   "source": [
    "df.groupby(by=['language_preferred'])['subscribed'].sum().plot(x='language_preferred',y='subscribed',kind='bar', color='y')\n",
    "plt.show()"
   ]
  },
  {
   "cell_type": "markdown",
   "id": "5fc7e559",
   "metadata": {},
   "source": [
    "### Step 1: Define the null and alternate hypotheses"
   ]
  },
  {
   "cell_type": "markdown",
   "id": "65c702e6",
   "metadata": {},
   "source": [
    ">$H_0:$ conversion is independent of preferred language.\n",
    "\n",
    "against the alternate hypothesis\n",
    "\n",
    ">$H_a:$ conversion depends on preferred language."
   ]
  },
  {
   "cell_type": "markdown",
   "id": "84cf6798",
   "metadata": {},
   "source": [
    "### Step 2: Select Appropriate test"
   ]
  },
  {
   "cell_type": "markdown",
   "id": "74eadb31",
   "metadata": {},
   "source": [
    "* Categorical variables - Yes\n",
    "* Expected value of the number of sample observations in each level of the variable is at least 5\n",
    "* Random sampling from the population - Yes, the collected sample is a simple random sample.\n",
    "\n",
    "* Chi-Square Test for Independence will be applied"
   ]
  },
  {
   "cell_type": "markdown",
   "id": "696f19cc",
   "metadata": {},
   "source": [
    "### Step 3: Decide the significance level"
   ]
  },
  {
   "cell_type": "markdown",
   "id": "4eace248",
   "metadata": {},
   "source": [
    "As given in the problem statement, we select $\\alpha$ = 0.05"
   ]
  },
  {
   "cell_type": "markdown",
   "id": "50d7db11",
   "metadata": {},
   "source": [
    "### Step 4: Collect and prepare data"
   ]
  },
  {
   "cell_type": "code",
   "execution_count": 32,
   "id": "cda3fffd",
   "metadata": {},
   "outputs": [
    {
     "data": {
      "text/plain": [
       "landing_page  language_preferred  converted\n",
       "new           English             yes          10\n",
       "                                  no            6\n",
       "              French              yes          12\n",
       "                                  no            5\n",
       "              Spanish             yes          11\n",
       "                                  no            6\n",
       "old           English             yes          11\n",
       "                                  no            5\n",
       "              French              no           14\n",
       "                                  yes           3\n",
       "              Spanish             no           10\n",
       "                                  yes           7\n",
       "Name: converted, dtype: int64"
      ]
     },
     "execution_count": 32,
     "metadata": {},
     "output_type": "execute_result"
    }
   ],
   "source": [
    "df.groupby(by=['landing_page','language_preferred'])['converted'].value_counts()"
   ]
  },
  {
   "cell_type": "markdown",
   "id": "98bae48b",
   "metadata": {},
   "source": [
    "* The above information show the number of converted in each landing page based on their language prefered."
   ]
  },
  {
   "cell_type": "code",
   "execution_count": 33,
   "id": "ebd3346c",
   "metadata": {},
   "outputs": [
    {
     "data": {
      "text/html": [
       "<div>\n",
       "<style scoped>\n",
       "    .dataframe tbody tr th:only-of-type {\n",
       "        vertical-align: middle;\n",
       "    }\n",
       "\n",
       "    .dataframe tbody tr th {\n",
       "        vertical-align: top;\n",
       "    }\n",
       "\n",
       "    .dataframe thead th {\n",
       "        text-align: right;\n",
       "    }\n",
       "</style>\n",
       "<table border=\"1\" class=\"dataframe\">\n",
       "  <thead>\n",
       "    <tr style=\"text-align: right;\">\n",
       "      <th></th>\n",
       "      <th>Data</th>\n",
       "      <th>English</th>\n",
       "      <th>French</th>\n",
       "      <th>Spanish</th>\n",
       "    </tr>\n",
       "  </thead>\n",
       "  <tbody>\n",
       "    <tr>\n",
       "      <th>0</th>\n",
       "      <td>old</td>\n",
       "      <td>11</td>\n",
       "      <td>3</td>\n",
       "      <td>7</td>\n",
       "    </tr>\n",
       "    <tr>\n",
       "      <th>1</th>\n",
       "      <td>new</td>\n",
       "      <td>10</td>\n",
       "      <td>12</td>\n",
       "      <td>11</td>\n",
       "    </tr>\n",
       "  </tbody>\n",
       "</table>\n",
       "</div>"
      ],
      "text/plain": [
       "  Data  English  French  Spanish\n",
       "0  old       11       3        7\n",
       "1  new       10      12       11"
      ]
     },
     "execution_count": 33,
     "metadata": {},
     "output_type": "execute_result"
    }
   ],
   "source": [
    "# For old and new data, converted numbers is gathered in the following table based on above data\n",
    "raw_data = {'Data': ['old','new'], 'English': [11,10],'French': [3,12], 'Spanish': [7,11]}\n",
    "df_2 = pd.DataFrame(raw_data, columns = ['Data','English','French','Spanish'])\n",
    "df_2"
   ]
  },
  {
   "cell_type": "markdown",
   "id": "a68ef1a9",
   "metadata": {},
   "source": [
    "* The above information is gathered in new dataframe. "
   ]
  },
  {
   "cell_type": "markdown",
   "id": "29762ede",
   "metadata": {},
   "source": [
    "### Step 5: Calculate the p-value"
   ]
  },
  {
   "cell_type": "code",
   "execution_count": 34,
   "id": "012b342a",
   "metadata": {},
   "outputs": [
    {
     "name": "stdout",
     "output_type": "stream",
     "text": [
      "The p-value is 0.1451131947907269\n"
     ]
    }
   ],
   "source": [
    "# import the required function\n",
    "from scipy.stats import chi2_contingency\n",
    "\n",
    "# find the p-value\n",
    "chi, p_value_independece, dof, expected=chi2_contingency(df_2.drop('Data', axis = 1))\n",
    "print('The p-value is', p_value_independece)\n"
   ]
  },
  {
   "cell_type": "markdown",
   "id": "ea84e57a",
   "metadata": {},
   "source": [
    "### Step 6: Compare the p-value with $\\alpha$"
   ]
  },
  {
   "cell_type": "code",
   "execution_count": 35,
   "id": "3fdc3edc",
   "metadata": {},
   "outputs": [
    {
     "name": "stdout",
     "output_type": "stream",
     "text": [
      "As the p-value 0.1451131947907269 is greater than the level of significance, we fail to reject the null hypothesis.\n"
     ]
    }
   ],
   "source": [
    "# print the conclusion based on p-value\n",
    "if p_value_independece < 0.05:\n",
    "    print(f'As the p-value {p_value_independece} is less than the level of significance, we reject the null hypothesis.')\n",
    "else:\n",
    "    print(f'As the p-value {p_value_independece} is greater than the level of significance, we fail to reject the null hypothesis.')"
   ]
  },
  {
   "cell_type": "markdown",
   "id": "ec53132d",
   "metadata": {},
   "source": [
    "### Step 7:  Draw inference"
   ]
  },
  {
   "cell_type": "markdown",
   "id": "eac7e91a",
   "metadata": {},
   "source": [
    "As the p-value is more than the significance level, we can not reject the null hypothesis. Hence, we do not have enough statistical significance to conclude that conversion is independent of preferred language at 5% significance level."
   ]
  },
  {
   "cell_type": "markdown",
   "id": "8d585a90",
   "metadata": {
    "id": "8d585a90"
   },
   "source": [
    "## 5. Is the time spent on the new page same for the different language users? (10 Marks)"
   ]
  },
  {
   "cell_type": "markdown",
   "id": "c1fb2828",
   "metadata": {},
   "source": [
    "### Perform Visual Analysis"
   ]
  },
  {
   "cell_type": "code",
   "execution_count": 36,
   "id": "167586ae",
   "metadata": {},
   "outputs": [
    {
     "data": {
      "image/png": "[encoded data removed]",
      "text/plain": [
       "<Figure size 432x288 with 1 Axes>"
      ]
     },
     "metadata": {
      "needs_background": "light"
     },
     "output_type": "display_data"
    }
   ],
   "source": [
    "sns.boxplot(x=df['language_preferred'], y=df['time_new'])\n",
    "plt.show()"
   ]
  },
  {
   "cell_type": "markdown",
   "id": "7e0a5b25",
   "metadata": {},
   "source": [
    "* It seems that there is a outlier in Spanish and French languages spent time on new page"
   ]
  },
  {
   "cell_type": "markdown",
   "id": "ad92ab7e",
   "metadata": {
    "id": "b422f395"
   },
   "source": [
    "### Step 1: Define null and alternate hypotheses"
   ]
  },
  {
   "cell_type": "markdown",
   "id": "0520e074",
   "metadata": {},
   "source": [
    "$H_0$ : The mean spent time on new landing page with respect to each language prefered category is equal.\n",
    "\n",
    "$H_a$ : At least one of the mean spent time on new landing page with respect to each language prefered category is different."
   ]
  },
  {
   "cell_type": "markdown",
   "id": "bced0d1d",
   "metadata": {},
   "source": [
    "### Step 2: Select Appropriate test"
   ]
  },
  {
   "cell_type": "markdown",
   "id": "807d63b4",
   "metadata": {},
   "source": [
    "This is a problem, concerning three population means. One-way ANOVA could be the appropriate test here provided normality and equality of variance assumptions are verified.\n",
    "\n",
    "* For testing of normality, Shapiro-Wilk’s test is applied to the response variable.\n",
    "\n",
    "* For equality of variance, Levene test is applied to the response variable.\n",
    "\n",
    "* Samples are independent simple random samples (we supose this is the case)"
   ]
  },
  {
   "cell_type": "markdown",
   "id": "f480483a",
   "metadata": {},
   "source": [
    "#### Shapiro-Wilk’s test\n",
    "\n",
    "We will test the null hypothesis\n",
    "\n",
    ">$H_0:$ The spent time follow a normal distribution\n",
    "\n",
    "against the alternative hypothesis\n",
    "\n",
    ">$H_a:$ The spent time do not follow a normal distribution"
   ]
  },
  {
   "cell_type": "code",
   "execution_count": 37,
   "id": "145c8048",
   "metadata": {},
   "outputs": [
    {
     "name": "stdout",
     "output_type": "stream",
     "text": [
      "The p-value is 0.8040016293525696\n"
     ]
    }
   ],
   "source": [
    "# Assumption 1: Normality\n",
    "# Use the shapiro function for the scipy.stats library for this test\n",
    "\n",
    "# find the p-value\n",
    "w, p_value_shapiro = stats.shapiro(df['time_new'].dropna()) \n",
    "print('The p-value is', p_value_shapiro)"
   ]
  },
  {
   "cell_type": "markdown",
   "id": "73922594",
   "metadata": {},
   "source": [
    "Since p-value of the test is very large than the 5% significance level, we fail to reject the null hypothesis that the response follows the normal distribution."
   ]
  },
  {
   "cell_type": "markdown",
   "id": "281f8440",
   "metadata": {},
   "source": [
    "#### Levene’s test\n",
    "\n",
    "We will test the null hypothesis\n",
    "\n",
    ">$H_0$: All the population variances are equal\n",
    "\n",
    "against the alternative hypothesis\n",
    "\n",
    ">$H_a$: At least one variance is different from the rest"
   ]
  },
  {
   "cell_type": "code",
   "execution_count": 38,
   "id": "1a6969a3",
   "metadata": {},
   "outputs": [
    {
     "name": "stdout",
     "output_type": "stream",
     "text": [
      "The p-value is 0.46711357711340173\n"
     ]
    }
   ],
   "source": [
    "#Assumption 2: Homogeneity of Variance\n",
    "# use levene function from scipy.stats library for this test\n",
    "\n",
    "# find the p-value\n",
    "statistic, p_value_levene = stats.levene(df[df['language_preferred']=='English']['time_new'].dropna(),\n",
    "                                         df[df['language_preferred']=='French']['time_new'].dropna(),\n",
    "                                         df[df['language_preferred']=='Spanish']['time_new'].dropna())\n",
    "print('The p-value is', p_value_levene)"
   ]
  },
  {
   "cell_type": "markdown",
   "id": "2caf9806",
   "metadata": {},
   "source": [
    "Since the p-value is large than the 5% significance level, we fail to reject the null hypothesis of homogeneity of variances."
   ]
  },
  {
   "cell_type": "markdown",
   "id": "13a8e1a1",
   "metadata": {},
   "source": [
    "### Step 3: Decide the significance level"
   ]
  },
  {
   "cell_type": "markdown",
   "id": "bbfdab40",
   "metadata": {},
   "source": [
    "As given in the problem statement, we select α = 0.05."
   ]
  },
  {
   "cell_type": "markdown",
   "id": "09245be4",
   "metadata": {},
   "source": [
    "### Step 4: Collect and prepare data"
   ]
  },
  {
   "cell_type": "code",
   "execution_count": 39,
   "id": "3e4a7e93",
   "metadata": {},
   "outputs": [
    {
     "data": {
      "text/plain": [
       "landing_page  language_preferred\n",
       "new           English               6.663750\n",
       "              French                6.196471\n",
       "              Spanish               5.835294\n",
       "old           English               4.454375\n",
       "              French                4.310000\n",
       "              Spanish               4.828235\n",
       "Name: time_spent_on_the_page, dtype: float64"
      ]
     },
     "execution_count": 39,
     "metadata": {},
     "output_type": "execute_result"
    }
   ],
   "source": [
    "df.groupby(by=['landing_page','language_preferred'])['time_spent_on_the_page'].mean()"
   ]
  },
  {
   "cell_type": "markdown",
   "id": "9b0f19c3",
   "metadata": {},
   "source": [
    "### Step 5: Calculate the p-value"
   ]
  },
  {
   "cell_type": "code",
   "execution_count": 40,
   "id": "2c592a52",
   "metadata": {},
   "outputs": [],
   "source": [
    "# separate the time on new page with respect to the three different languages\n",
    "\n",
    "Time_English=df[df['language_preferred']=='English']['time_new'].dropna()\n",
    "Time_French =df[df['language_preferred']=='French']['time_new'].dropna()\n",
    "Time_Spanish=df[df['language_preferred']=='Spanish']['time_new'].dropna()"
   ]
  },
  {
   "cell_type": "code",
   "execution_count": 41,
   "id": "7f5440fc",
   "metadata": {},
   "outputs": [
    {
     "name": "stdout",
     "output_type": "stream",
     "text": [
      "The p-value is  0.43204138694325955\n"
     ]
    }
   ],
   "source": [
    "# perform one-way anova test using the f_oneway function from scipy.stats library\n",
    "test_stat, p_value_same_time = stats.f_oneway(Time_English, Time_French, Time_Spanish)\n",
    "print('The p-value is ', p_value_same_time)"
   ]
  },
  {
   "cell_type": "markdown",
   "id": "69f3b713",
   "metadata": {},
   "source": [
    "### Step 6: Compare the p-value with $\\alpha$"
   ]
  },
  {
   "cell_type": "code",
   "execution_count": 42,
   "id": "349630df",
   "metadata": {},
   "outputs": [
    {
     "name": "stdout",
     "output_type": "stream",
     "text": [
      "As the p-value 0.43204138694325955 is greater than the level of significance, we fail to reject the null hypothesis.\n"
     ]
    }
   ],
   "source": [
    "# print the conclusion based on p-value\n",
    "if p_value_same_time < 0.05:\n",
    "    print(f'As the p-value {p_value_same_time} is less than the level of significance, we reject the null hypothesis.')\n",
    "else:\n",
    "    print(f'As the p-value {p_value_same_time} is greater than the level of significance, we fail to reject the null hypothesis.')"
   ]
  },
  {
   "cell_type": "markdown",
   "id": "2e4e72c3",
   "metadata": {},
   "source": [
    "### Step 7:  Draw inference"
   ]
  },
  {
   "cell_type": "markdown",
   "id": "9be63e3d",
   "metadata": {},
   "source": [
    "Since the p-value is more than the 5% significance level, we can not reject the null hypothesis. Hence, we do not have enough statistical evidence to reject that the mean spent time on new landing page with respect to each language prefered category is equal."
   ]
  },
  {
   "cell_type": "markdown",
   "id": "0df0ecef",
   "metadata": {},
   "source": [
    "### Multiple Comparison test (Tuckey HSD)"
   ]
  },
  {
   "cell_type": "markdown",
   "id": "06fb80a9",
   "metadata": {},
   "source": [
    "In order to identify for which group mean is different from other groups, the null hypothesis is\n",
    "\n",
    "  > $𝐻_0: 𝜇_A=𝜇_B \\text{ and } 𝜇_A=𝜇_C \\text{ and } 𝜇_B=𝜇_C$\n",
    "\n",
    "against the alternative hypothesis\n",
    "\n",
    " > $𝐻_a: 𝜇_A\\neq𝜇_B \\text{ or } 𝜇_A\\neq𝜇_C \\text{ or } 𝜇_B\\neq𝜇_C$"
   ]
  },
  {
   "cell_type": "code",
   "execution_count": 43,
   "id": "41cd4200",
   "metadata": {},
   "outputs": [
    {
     "name": "stdout",
     "output_type": "stream",
     "text": [
      " Multiple Comparison of Means - Tukey HSD, FWER=0.05 \n",
      "=====================================================\n",
      " group1  group2 meandiff p-adj   lower  upper  reject\n",
      "-----------------------------------------------------\n",
      "English  French  -0.4673 0.7259 -2.0035  1.069  False\n",
      "English Spanish  -0.8285  0.401 -2.3647 0.7078  False\n",
      " French Spanish  -0.3612  0.816  -1.874 1.1516  False\n",
      "-----------------------------------------------------\n"
     ]
    }
   ],
   "source": [
    "#import the required function\n",
    "from statsmodels.stats.multicomp import pairwise_tukeyhsd\n",
    "\n",
    "# perform multiple pairwise comparison (Tukey HSD)\n",
    "m_comp = pairwise_tukeyhsd(endog = df['time_new'].dropna(), groups = df[df['landing_page']=='new']['language_preferred'], alpha = 0.05)\n",
    "print(m_comp)"
   ]
  },
  {
   "cell_type": "markdown",
   "id": "5eeafe57",
   "metadata": {},
   "source": [
    "* The above test also shows that we can not reject non of the equality."
   ]
  },
  {
   "cell_type": "markdown",
   "id": "3acbc947",
   "metadata": {
    "id": "3acbc947"
   },
   "source": [
    "## Conclusion and Business Recommendations"
   ]
  },
  {
   "cell_type": "markdown",
   "id": "21fb1063",
   "metadata": {
    "id": "21fb1063"
   },
   "source": [
    "### Conclusion"
   ]
  },
  {
   "cell_type": "markdown",
   "id": "3f5db914",
   "metadata": {},
   "source": [
    "* At 5% significance level, we have enough statistical evidence to reject that the mean time spending in the new landing page is equal or less than the mean time spending in the old landing page. It means, the spending time in new page is increased.\n",
    "\n",
    "* At 5% significance level, we have enough statistical evidence to reject that the conversion rate from the new landing page is equal or less than the conversion rate from the old landing page. It means, the subscription on new page in increased.\n",
    "\n",
    "* We do not have enough statistical significance to reject that conversion is independent of preferred language at 5% significance level. It means that, the conversion is independent of prefered languages.\n",
    "\n",
    "* We do not have enough statistical evidence to reject that the mean spent time on new landing page with respect to each language prefered category is equal.It means that, spending time is equal for different languages."
   ]
  },
  {
   "cell_type": "markdown",
   "id": "390115a1",
   "metadata": {},
   "source": [
    "### Recommendation"
   ]
  },
  {
   "cell_type": "markdown",
   "id": "9270b731",
   "metadata": {},
   "source": [
    "* It seems that the new page resulted in increasing the number of subscriptions successfully, but still there are people that do not subscribe on the page. It is recommended to plan a survey from the site visitors and ask them about the factors which may increase the chance of subscriptions by them.\n",
    "\n",
    "* Since the subscription rate is independent of prefereed languages, development of the other languages is not necassary at this time. \n",
    "\n",
    "* Investigate the factors that resulted in increasing the time spend on the new page and work more to develop these factors. "
   ]
  }
 ],
 "metadata": {
  "colab": {
   "collapsed_sections": [],
   "name": "ENews_Express_Learner_Notebook[Full Code Version].ipynb",
   "provenance": []
  },
  "kernelspec": {
   "display_name": "Python 3",
   "language": "python",
   "name": "python3"
  },
  "language_info": {
   "codemirror_mode": {
    "name": "ipython",
    "version": 3
   },
   "file_extension": ".py",
   "mimetype": "text/x-python",
   "name": "python",
   "nbconvert_exporter": "python",
   "pygments_lexer": "ipython3",
   "version": "3.8.8"
  }
 },
 "nbformat": 4,
 "nbformat_minor": 5
}
